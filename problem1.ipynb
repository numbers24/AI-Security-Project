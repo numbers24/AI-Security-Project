{
  "nbformat": 4,
  "nbformat_minor": 0,
  "metadata": {
    "colab": {
      "name": "problem1.ipynb",
      "provenance": []
    },
    "kernelspec": {
      "display_name": "Python 3",
      "name": "python3"
    }
  },
  "cells": [
    {
      "cell_type": "markdown",
      "metadata": {
        "id": "P3yYGoy2666_"
      },
      "source": [
        "# **Problem 1: WhiteBox Attacks Using FoolBox**"
      ]
    },
    {
      "cell_type": "markdown",
      "metadata": {
        "id": "tcX_gVHs29vD"
      },
      "source": [
        "Install Foolbox"
      ]
    },
    {
      "cell_type": "code",
      "metadata": {
        "colab": {
          "base_uri": "https://localhost:8080/"
        },
        "id": "sjaYEGhM1iYP",
        "outputId": "dc39e61f-c8f5-42db-ebd6-fd47dcc89b6d"
      },
      "source": [
        "!pip3 install foolbox"
      ],
      "execution_count": null,
      "outputs": [
        {
          "output_type": "stream",
          "text": [
            "Requirement already satisfied: foolbox in /usr/local/lib/python3.7/dist-packages (3.3.1)\n",
            "Requirement already satisfied: GitPython>=3.0.7 in /usr/local/lib/python3.7/dist-packages (from foolbox) (3.1.14)\n",
            "Requirement already satisfied: typing-extensions>=3.7.4.1 in /usr/local/lib/python3.7/dist-packages (from foolbox) (3.7.4.3)\n",
            "Requirement already satisfied: setuptools in /usr/local/lib/python3.7/dist-packages (from foolbox) (54.0.0)\n",
            "Requirement already satisfied: requests>=2.24.0 in /usr/local/lib/python3.7/dist-packages (from foolbox) (2.25.1)\n",
            "Requirement already satisfied: eagerpy==0.29.0 in /usr/local/lib/python3.7/dist-packages (from foolbox) (0.29.0)\n",
            "Requirement already satisfied: scipy in /usr/local/lib/python3.7/dist-packages (from foolbox) (1.4.1)\n",
            "Requirement already satisfied: numpy in /usr/local/lib/python3.7/dist-packages (from foolbox) (1.19.5)\n",
            "Requirement already satisfied: gitdb<5,>=4.0.1 in /usr/local/lib/python3.7/dist-packages (from GitPython>=3.0.7->foolbox) (4.0.5)\n",
            "Requirement already satisfied: urllib3<1.27,>=1.21.1 in /usr/local/lib/python3.7/dist-packages (from requests>=2.24.0->foolbox) (1.24.3)\n",
            "Requirement already satisfied: idna<3,>=2.5 in /usr/local/lib/python3.7/dist-packages (from requests>=2.24.0->foolbox) (2.10)\n",
            "Requirement already satisfied: chardet<5,>=3.0.2 in /usr/local/lib/python3.7/dist-packages (from requests>=2.24.0->foolbox) (3.0.4)\n",
            "Requirement already satisfied: certifi>=2017.4.17 in /usr/local/lib/python3.7/dist-packages (from requests>=2.24.0->foolbox) (2020.12.5)\n",
            "Requirement already satisfied: smmap<4,>=3.0.1 in /usr/local/lib/python3.7/dist-packages (from gitdb<5,>=4.0.1->GitPython>=3.0.7->foolbox) (3.0.5)\n"
          ],
          "name": "stdout"
        }
      ]
    },
    {
      "cell_type": "markdown",
      "metadata": {
        "id": "mZRPwjz1WzSb"
      },
      "source": [
        "## Getting Model"
      ]
    },
    {
      "cell_type": "code",
      "metadata": {
        "colab": {
          "base_uri": "https://localhost:8080/"
        },
        "id": "H8LOvc715uwU",
        "outputId": "54d9b07e-ec42-4938-8234-171c22181932"
      },
      "source": [
        "import torch as t\r\n",
        "import torchvision as tv\r\n",
        "import foolbox as fb\r\n",
        "\r\n",
        "model = tv.models.resnet18(pretrained = True)\r\n",
        "prep = dict(mean=[0.485, 0.456, 0.406], std=[0.229, 0.224, 0.225], axis=-3)\r\n",
        "bounds = (0,1)\r\n",
        "fmodel = fb.PyTorchModel(model,bounds=bounds,preprocessing=prep)"
      ],
      "execution_count": null,
      "outputs": [
        {
          "output_type": "stream",
          "text": [
            "/usr/local/lib/python3.7/dist-packages/foolbox/models/pytorch.py:37: UserWarning: The PyTorch model is in training mode and therefore might not be deterministic. Call the eval() method to set it in evaluation mode if this is not intended.\n",
            "  \"The PyTorch model is in training mode and therefore might\"\n"
          ],
          "name": "stderr"
        }
      ]
    },
    {
      "cell_type": "markdown",
      "metadata": {
        "id": "3ceSpG43W7aC"
      },
      "source": [
        "Data Set"
      ]
    },
    {
      "cell_type": "code",
      "metadata": {
        "id": "G0L8FX7M6JLX"
      },
      "source": [
        "images,labels = fb.utils.samples(fmodel,dataset='imagenet',batchsize=16)"
      ],
      "execution_count": null,
      "outputs": []
    },
    {
      "cell_type": "markdown",
      "metadata": {
        "id": "KJ47OkcfXUZI"
      },
      "source": [
        "Tools that will be used for Data Gathering"
      ]
    },
    {
      "cell_type": "code",
      "metadata": {
        "id": "8z19Gh7uZHCO"
      },
      "source": [
        "#stores the 4 data fields into lists\r\n",
        "attackType = []\r\n",
        "pnormdist = []\r\n",
        "succrate = []\r\n",
        "timecost = []\r\n",
        "\r\n",
        "#function for appending all items at once\r\n",
        "def appenditems(at,pd,sr,tc):\r\n",
        "  attackType.append(at)\r\n",
        "  pnormdist.append(pd)\r\n",
        "  succrate.append(sr)\r\n",
        "  timecost.append(tc)\r\n",
        "  return\r\n",
        "\r\n",
        "#function to convert seconds to minutes\r\n",
        "import time\r\n",
        "def convert(seconds): \r\n",
        "    min, sec = divmod(seconds, 60)\r\n",
        "    return \"%02d:%02d\" % (min, sec)"
      ],
      "execution_count": null,
      "outputs": []
    },
    {
      "cell_type": "markdown",
      "metadata": {
        "id": "GgOOC816XSFC"
      },
      "source": [
        "## Attack Model"
      ]
    },
    {
      "cell_type": "code",
      "metadata": {
        "colab": {
          "base_uri": "https://localhost:8080/"
        },
        "id": "4pV8jqYuxh3a",
        "outputId": "f6f3b779-e073-4bad-b637-5d4d0d6b1557"
      },
      "source": [
        "#accuracy\r\n",
        "fb.utils.accuracy(fmodel, images, labels)"
      ],
      "execution_count": null,
      "outputs": [
        {
          "output_type": "execute_result",
          "data": {
            "text/plain": [
              "0.875"
            ]
          },
          "metadata": {
            "tags": []
          },
          "execution_count": 86
        }
      ]
    },
    {
      "cell_type": "code",
      "metadata": {
        "id": "ViiSFuk6wSZk"
      },
      "source": [
        "#attack function\r\n",
        "import numpy as np\r\n",
        "epsilons = np.linspace(0.0,0.005, num=5)\r\n",
        "\r\n",
        "def flatlist(l):\r\n",
        "    flatlist = []\r\n",
        "    for e in l:\r\n",
        "      flatlist.extend(e)\r\n",
        "    return flatlist\r\n",
        "\r\n",
        "def attk(at,pd,attack):\r\n",
        "  ti = time.time()\r\n",
        "  raw, clipped, is_adv = attack(fmodel,images,labels,epsilons=epsilons)\r\n",
        "  tc = convert(time.time()-ti)\r\n",
        "  fl = flatlist(is_adv.tolist())\r\n",
        "  sr = fl.count(True)/len(fl)\r\n",
        "  appenditems(at,pd,sr,tc)\r\n",
        "  return"
      ],
      "execution_count": null,
      "outputs": []
    },
    {
      "cell_type": "code",
      "metadata": {
        "id": "r6AaLX-E6Og_"
      },
      "source": [
        "#Deep Fool Attacks\r\n",
        "attk('Deep Fool','2',fb.attacks.L2DeepFoolAttack())\r\n",
        "attk('Deep Fool','Inf',fb.attacks.LinfDeepFoolAttack())"
      ],
      "execution_count": null,
      "outputs": []
    },
    {
      "cell_type": "code",
      "metadata": {
        "id": "lnc0xCOsHnox"
      },
      "source": [
        "#Basic Iterative Attacks\r\n",
        "attk('Basic Iterative','1',fb.attacks.L1BasicIterativeAttack())\r\n",
        "attk('Basic Iterative','2',fb.attacks.L2BasicIterativeAttack())\r\n",
        "attk('Basic Iterative','Inf',fb.attacks.LinfBasicIterativeAttack())"
      ],
      "execution_count": null,
      "outputs": []
    },
    {
      "cell_type": "code",
      "metadata": {
        "id": "ovhRnLvjvejF"
      },
      "source": [
        "#Fast Gradiant Attacks\r\n",
        "attk('Fast Gradiant','1',fb.attacks.L1FastGradientAttack())\r\n",
        "attk('Fast Gradiant','2',fb.attacks.L2FastGradientAttack())\r\n",
        "attk('Fast Gradiant','Inf',fb.attacks.LinfFastGradientAttack())"
      ],
      "execution_count": null,
      "outputs": []
    },
    {
      "cell_type": "code",
      "metadata": {
        "id": "mKk5wVJbJ0g4"
      },
      "source": [
        "#Projected Griadiant Descent Attacks\r\n",
        "attk('Projected Gradiant Descent','1',fb.attacks.L1ProjectedGradientDescentAttack())\r\n",
        "attk('Projected Gradiant Descent','2',fb.attacks.L2ProjectedGradientDescentAttack())\r\n",
        "attk('Projected Gradiant Descent','Inf',fb.attacks.LinfProjectedGradientDescentAttack())"
      ],
      "execution_count": null,
      "outputs": []
    },
    {
      "cell_type": "markdown",
      "metadata": {
        "id": "Y_Wpp2-5Zivm"
      },
      "source": [
        "## Finalize Table"
      ]
    },
    {
      "cell_type": "code",
      "metadata": {
        "colab": {
          "base_uri": "https://localhost:8080/",
          "height": 394
        },
        "id": "9LVbAyUEZrCO",
        "outputId": "bd42540f-7962-4f73-e213-925dfc16e18e"
      },
      "source": [
        "import pandas as pd\r\n",
        "df = pd.DataFrame({'Attack Type' : attackType,\r\n",
        "                   'P-norm Distance' : pnormdist,\r\n",
        "                   'Success Rate' : succrate,\r\n",
        "                   'Time Cost (minutes)' : timecost\r\n",
        "})\r\n",
        "df"
      ],
      "execution_count": null,
      "outputs": [
        {
          "output_type": "execute_result",
          "data": {
            "text/html": [
              "<div>\n",
              "<style scoped>\n",
              "    .dataframe tbody tr th:only-of-type {\n",
              "        vertical-align: middle;\n",
              "    }\n",
              "\n",
              "    .dataframe tbody tr th {\n",
              "        vertical-align: top;\n",
              "    }\n",
              "\n",
              "    .dataframe thead th {\n",
              "        text-align: right;\n",
              "    }\n",
              "</style>\n",
              "<table border=\"1\" class=\"dataframe\">\n",
              "  <thead>\n",
              "    <tr style=\"text-align: right;\">\n",
              "      <th></th>\n",
              "      <th>Attack Type</th>\n",
              "      <th>P-norm Distance</th>\n",
              "      <th>Success Rate</th>\n",
              "      <th>Time Cost (minutes)</th>\n",
              "    </tr>\n",
              "  </thead>\n",
              "  <tbody>\n",
              "    <tr>\n",
              "      <th>0</th>\n",
              "      <td>Deep Fool</td>\n",
              "      <td>2</td>\n",
              "      <td>0.1250</td>\n",
              "      <td>33:01</td>\n",
              "    </tr>\n",
              "    <tr>\n",
              "      <th>1</th>\n",
              "      <td>Deep Fool</td>\n",
              "      <td>Inf</td>\n",
              "      <td>0.7125</td>\n",
              "      <td>20:49</td>\n",
              "    </tr>\n",
              "    <tr>\n",
              "      <th>2</th>\n",
              "      <td>Basic Iterative</td>\n",
              "      <td>1</td>\n",
              "      <td>0.1250</td>\n",
              "      <td>03:53</td>\n",
              "    </tr>\n",
              "    <tr>\n",
              "      <th>3</th>\n",
              "      <td>Basic Iterative</td>\n",
              "      <td>2</td>\n",
              "      <td>0.1250</td>\n",
              "      <td>03:48</td>\n",
              "    </tr>\n",
              "    <tr>\n",
              "      <th>4</th>\n",
              "      <td>Basic Iterative</td>\n",
              "      <td>Inf</td>\n",
              "      <td>0.6375</td>\n",
              "      <td>03:48</td>\n",
              "    </tr>\n",
              "    <tr>\n",
              "      <th>5</th>\n",
              "      <td>Fast Gradiant</td>\n",
              "      <td>1</td>\n",
              "      <td>0.1250</td>\n",
              "      <td>00:29</td>\n",
              "    </tr>\n",
              "    <tr>\n",
              "      <th>6</th>\n",
              "      <td>Fast Gradiant</td>\n",
              "      <td>2</td>\n",
              "      <td>0.1250</td>\n",
              "      <td>00:29</td>\n",
              "    </tr>\n",
              "    <tr>\n",
              "      <th>7</th>\n",
              "      <td>Fast Gradiant</td>\n",
              "      <td>Inf</td>\n",
              "      <td>0.5000</td>\n",
              "      <td>00:28</td>\n",
              "    </tr>\n",
              "    <tr>\n",
              "      <th>8</th>\n",
              "      <td>Projected Gradiant Descent</td>\n",
              "      <td>1</td>\n",
              "      <td>0.1250</td>\n",
              "      <td>18:33</td>\n",
              "    </tr>\n",
              "    <tr>\n",
              "      <th>9</th>\n",
              "      <td>Projected Gradiant Descent</td>\n",
              "      <td>2</td>\n",
              "      <td>0.1250</td>\n",
              "      <td>18:24</td>\n",
              "    </tr>\n",
              "    <tr>\n",
              "      <th>10</th>\n",
              "      <td>Projected Gradiant Descent</td>\n",
              "      <td>Inf</td>\n",
              "      <td>0.6125</td>\n",
              "      <td>14:31</td>\n",
              "    </tr>\n",
              "  </tbody>\n",
              "</table>\n",
              "</div>"
            ],
            "text/plain": [
              "                   Attack Type  ... Time Cost (minutes)\n",
              "0                    Deep Fool  ...               33:01\n",
              "1                    Deep Fool  ...               20:49\n",
              "2              Basic Iterative  ...               03:53\n",
              "3              Basic Iterative  ...               03:48\n",
              "4              Basic Iterative  ...               03:48\n",
              "5                Fast Gradiant  ...               00:29\n",
              "6                Fast Gradiant  ...               00:29\n",
              "7                Fast Gradiant  ...               00:28\n",
              "8   Projected Gradiant Descent  ...               18:33\n",
              "9   Projected Gradiant Descent  ...               18:24\n",
              "10  Projected Gradiant Descent  ...               14:31\n",
              "\n",
              "[11 rows x 4 columns]"
            ]
          },
          "metadata": {
            "tags": []
          },
          "execution_count": 92
        }
      ]
    }
  ]
}